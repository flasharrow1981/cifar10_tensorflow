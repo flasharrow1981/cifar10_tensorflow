{
 "cells": [
  {
   "cell_type": "code",
   "execution_count": 1,
   "metadata": {},
   "outputs": [
    {
     "name": "stdout",
     "output_type": "stream",
     "text": [
      "classname=truck\n",
      "classname=dog\n",
      "classname=frog\n",
      "classname=horse\n",
      "classname=ship\n",
      "classname=airplane\n",
      "classname=deer\n",
      "classname=bird\n",
      "classname=cat\n",
      "classname=automobile\n",
      "classname=truck\n",
      "classname=dog\n",
      "classname=frog\n",
      "classname=horse\n",
      "classname=ship\n",
      "classname=airplane\n",
      "classname=deer\n",
      "classname=bird\n",
      "classname=cat\n",
      "classname=automobile\n",
      "epoch{0}, iter[317], train loss: 233.853023, valid precision: 0.520667, valid loss: 170.024811\n",
      "backup/cifar10-v14/model_0.ckpt\n",
      "epoch{1}, iter[634], train loss: 163.486234, valid precision: 0.636444, valid loss: 132.394459\n",
      "backup/cifar10-v14/model_1.ckpt\n",
      "epoch{2}, iter[951], train loss: 142.088465, valid precision: 0.682222, valid loss: 116.939425\n",
      "backup/cifar10-v14/model_2.ckpt\n",
      "backup/cifar10-v14/model_2.ckpt\n",
      "INFO:tensorflow:Restoring parameters from backup/cifar10-v14/model_2.ckpt\n",
      "read model from backup/cifar10-v14/model_2.ckpt\n",
      "test precision: 0.6406\n"
     ]
    }
   ],
   "source": [
    "# %load neunet.py\n",
    "# author: ronniecao\n",
    "import os\n",
    "from src.data.cifar10 import Corpus\n",
    "\n",
    "os.environ['CUDA_DEVICE_ORDER'] = 'PCI_BUS_ID'\n",
    "os.environ['CUDA_VISIBLE_DEVICES'] = '3'\n",
    "\n",
    "\n",
    "cifar10 = Corpus()\n",
    "\n",
    "def basic_cnn():\n",
    "    from src.model.basic_cnn import ConvNet\n",
    "    convnet = ConvNet(n_channel=3, n_classes=10, image_size=24)\n",
    "    # convnet.debug()\n",
    "    convnet.train(dataloader=cifar10, backup_path='backup/cifar10-v14/', batch_size=128, n_epoch=2)\n",
    "    convnet.test(dataloader=cifar10, backup_path='backup/cifar10-v14/', epoch=2, batch_size=128)\n",
    "    # convnet.observe_salience(batch_size=1, n_channel=3, num_test=10, epoch=2)\n",
    "    # convnet.observe_hidden_distribution(batch_size=128, n_channel=3, num_test=1, epoch=980)\n",
    "    \n",
    "def plain_cnn():\n",
    "    from src.model.plain_cnn import ConvNet\n",
    "    convnet = ConvNet(n_channel=3, n_classes=10, image_size=24)\n",
    "    # convnet.debug()\n",
    "    convnet.train(dataloader=cifar10, backup_path='backup/cifar10-v16/', batch_size=128, n_epoch=500)\n",
    "    # convnet.test(backup_path='backup/cifar10-v3/', epoch=0, batch_size=128)\n",
    "    # convnet.observe_salience(batch_size=1, n_channel=3, num_test=10, epoch=2)\n",
    "    # convnet.observe_hidden_distribution(batch_size=128, n_channel=3, num_test=1, epoch=980)\n",
    "    \n",
    "def residual_net():\n",
    "    from src.model.residual_net import ConvNet\n",
    "    convnet = ConvNet(n_channel=3, n_classes=10, image_size=24, n_layers=20)\n",
    "    #convnet.debug()\n",
    "    convnet.train(dataloader=cifar10, backup_path='backup/cifar10-v20/', batch_size=128, n_epoch=5)\n",
    "    # convnet.test(backup_path='backup/cifar10-v4/', epoch=0, batch_size=128)\n",
    "    # convnet.observe_salience(batch_size=1, n_channel=3, num_test=10, epoch=2)\n",
    "    # convnet.observe_hidden_distribution(batch_size=128, n_channel=3, num_test=1, epoch=980)\n",
    "\n",
    "#residual_net()\n",
    "basic_cnn()"
   ]
  },
  {
   "cell_type": "code",
   "execution_count": null,
   "metadata": {
    "collapsed": true
   },
   "outputs": [],
   "source": []
  },
  {
   "cell_type": "code",
   "execution_count": null,
   "metadata": {
    "collapsed": true
   },
   "outputs": [],
   "source": []
  },
  {
   "cell_type": "code",
   "execution_count": null,
   "metadata": {
    "collapsed": true
   },
   "outputs": [],
   "source": []
  }
 ],
 "metadata": {
  "kernelspec": {
   "display_name": "Python 3",
   "language": "python",
   "name": "python3"
  },
  "language_info": {
   "codemirror_mode": {
    "name": "ipython",
    "version": 3
   },
   "file_extension": ".py",
   "mimetype": "text/x-python",
   "name": "python",
   "nbconvert_exporter": "python",
   "pygments_lexer": "ipython3",
   "version": "3.6.3"
  }
 },
 "nbformat": 4,
 "nbformat_minor": 2
}
