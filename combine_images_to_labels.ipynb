{
 "cells": [
  {
   "cell_type": "code",
   "execution_count": 56,
   "metadata": {},
   "outputs": [
    {
     "name": "stdout",
     "output_type": "stream",
     "text": [
      "[[[1, 2, 3], [4, 5, 6]], [[10, 12, 13], [14, 15, 16]], [[20, 22, 23], [24, 25, 26]]]\n",
      "[1, 2, 3]\n",
      "[([[10, 12, 13], [14, 15, 16]], 2), ([[20, 22, 23], [24, 25, 26]], 3), ([[1, 2, 3], [4, 5, 6]], 1)]\n",
      "********************\n",
      "[[[10 12 13]\n",
      "  [14 15 16]]\n",
      "\n",
      " [[20 22 23]\n",
      "  [24 25 26]]\n",
      "\n",
      " [[ 1  2  3]\n",
      "  [ 4  5  6]]]\n",
      "[2 3 1]\n"
     ]
    }
   ],
   "source": [
    "import numpy as np\n",
    "import itertools\n",
    "\n",
    "a = [[[1,2,3],[4,5,6]],[[10,12,13],[14,15,16]],[[20,22,23],[24,25,26]]]\n",
    "b=[1,2,3]\n",
    "\n",
    "\n",
    "\n",
    "#a=np.array(a,dtype='int')\n",
    "#b=np.array(b,dtype='int')\n",
    "\n",
    "print(a)\n",
    "print(b)\n",
    "c=list(zip(a,b))\n",
    "d=np.random.shuffle(c)\n",
    "print(c)\n",
    "\n",
    "#print(a.shape)\n",
    "#print(b.shape)\n",
    "#print(d)\n",
    "\n",
    "image,label=zip(*c)\n",
    "print('*'*20)\n",
    "image=np.array(image,dtype='int')\n",
    "label=np.array(label,dtype='int')\n",
    "print(image)\n",
    "print(label)"
   ]
  },
  {
   "cell_type": "code",
   "execution_count": null,
   "metadata": {
    "collapsed": true
   },
   "outputs": [],
   "source": []
  },
  {
   "cell_type": "code",
   "execution_count": null,
   "metadata": {
    "collapsed": true
   },
   "outputs": [],
   "source": []
  }
 ],
 "metadata": {
  "kernelspec": {
   "display_name": "Python 3",
   "language": "python",
   "name": "python3"
  },
  "language_info": {
   "codemirror_mode": {
    "name": "ipython",
    "version": 3
   },
   "file_extension": ".py",
   "mimetype": "text/x-python",
   "name": "python",
   "nbconvert_exporter": "python",
   "pygments_lexer": "ipython3",
   "version": "3.6.3"
  }
 },
 "nbformat": 4,
 "nbformat_minor": 2
}
