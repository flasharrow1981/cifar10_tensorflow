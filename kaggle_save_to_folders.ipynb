{
 "cells": [
  {
   "cell_type": "code",
   "execution_count": 2,
   "metadata": {},
   "outputs": [],
   "source": [
    "from __future__ import print_function\n",
    "import traceback\n",
    "import sys\n",
    "import glob\n",
    "import os\n",
    "import csv\n",
    "import shutil\n",
    "\n",
    "INPUT = '/home/dp/down/cifar10/cifar-10-unpack/train' #训练图片\n",
    "OUTPUT1= '/home/dp/down/cifar10/cifar-10-unpack/classify/train' #目标文件夹train\n",
    "OUTPUT2= '/home/dp/down/cifar10/cifar-10-unpack/classify/test' #目标文件夹test\n",
    "CSV='/home/dp/down/cifar10/cifar-10-unpack/trainLabels.csv' #训练标签\n",
    "\n",
    "\n",
    "def classify_cifar10():\n",
    "    csv_reader = csv.DictReader(open(CSV, encoding='utf-8'))\n",
    "    tag_dict= dict()\n",
    "    for row in csv_reader:\n",
    "        tag_dict[row['id']]=row['label']\n",
    "    #print(tag_dict)\n",
    "\n",
    "    list=os.listdir(INPUT)\n",
    "    #训练集\n",
    "    for i in range(0,int(len(list)*0.9)):\n",
    "        path=os.path.join(INPUT,list[i])\n",
    "        filename=list[i].split(\".\")[0]\n",
    "        \n",
    "        if os.path.isfile(path):\n",
    "            tag=tag_dict[filename]\n",
    "            \n",
    "            out_path=os.path.join(OUTPUT1,tag)\n",
    "            #print(os.path.join(out_path,list[i]))\n",
    "            if not os.path.exists(out_path):\n",
    "                os.makedirs(out_path)\n",
    "            shutil.copy(path,os.path.join(out_path,list[i]))\n",
    "            #print(path)\n",
    "       #测试集\n",
    "    for i in range(int(len(list)*0.9),len(list)):\n",
    "        path=os.path.join(INPUT,list[i])\n",
    "        filename=list[i].split(\".\")[0]\n",
    "        \n",
    "        if os.path.isfile(path):\n",
    "            tag=tag_dict[filename]\n",
    "            \n",
    "            out_path=os.path.join(OUTPUT2,tag)\n",
    "            #print(os.path.join(out_path,list[i]))\n",
    "            if not os.path.exists(out_path):\n",
    "                os.makedirs(out_path)\n",
    "            shutil.copy(path,os.path.join(out_path,list[i]))\n",
    "            #print(path)      \n",
    "                    \n",
    "        \n",
    "        \n",
    "        \n",
    "    \n",
    "classify_cifar10()\n",
    "       "
   ]
  },
  {
   "cell_type": "code",
   "execution_count": null,
   "metadata": {
    "collapsed": true
   },
   "outputs": [],
   "source": []
  }
 ],
 "metadata": {
  "kernelspec": {
   "display_name": "Python 3",
   "language": "python",
   "name": "python3"
  },
  "language_info": {
   "codemirror_mode": {
    "name": "ipython",
    "version": 3
   },
   "file_extension": ".py",
   "mimetype": "text/x-python",
   "name": "python",
   "nbconvert_exporter": "python",
   "pygments_lexer": "ipython3",
   "version": "3.6.3"
  }
 },
 "nbformat": 4,
 "nbformat_minor": 2
}
